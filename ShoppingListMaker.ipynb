{
 "cells": [
  {
   "cell_type": "code",
   "execution_count": null,
   "metadata": {},
   "outputs": [],
   "source": [
    "# 2. The Shopping List Maker\n",
    "\n",
    "# Objective: The aim of this assignment is to create a program that helps users \n",
    "# make a shopping list.\n",
    "\n",
    "# Note: The goal of this is to be a program. \n",
    "\n",
    "# The recommendation is to use a while loop that will allow the user to \n",
    "# continue to add, remove, and print off their shopping list until they decide to \n",
    "# \"quit\", also known as breaking the loop.\n"
   ]
  },
  {
   "cell_type": "code",
   "execution_count": null,
   "metadata": {},
   "outputs": [],
   "source": [
    "# Task 1: Write a function that lets the user add items to a list.\n",
    "\n"
   ]
  },
  {
   "cell_type": "code",
   "execution_count": null,
   "metadata": {},
   "outputs": [],
   "source": [
    "# Task 2: Include a function to remove items from the list.\n",
    "\n"
   ]
  },
  {
   "cell_type": "code",
   "execution_count": null,
   "metadata": {},
   "outputs": [],
   "source": [
    "# Task 3: Add a function that prints out the entire list in a formatted way.\n",
    "\n"
   ]
  },
  {
   "cell_type": "code",
   "execution_count": null,
   "metadata": {},
   "outputs": [],
   "source": []
  }
 ],
 "metadata": {
  "language_info": {
   "name": "python"
  }
 },
 "nbformat": 4,
 "nbformat_minor": 2
}
